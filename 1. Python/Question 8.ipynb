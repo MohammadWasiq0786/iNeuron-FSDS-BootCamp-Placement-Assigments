{
 "cells": [
  {
   "cell_type": "markdown",
   "id": "c617f8c4",
   "metadata": {},
   "source": [
    "![image](https://user-images.githubusercontent.com/57321948/196933065-4b16c235-f3b9-4391-9cfe-4affcec87c35.png)\n",
    "\n",
    "# Submitted by: Mohammad Wasiq\n",
    "\n",
    "## Email: `gl0427@myamu.ac.in`\n",
    "\n",
    "# Placement Python Assignment 8"
   ]
  },
  {
   "cell_type": "markdown",
   "id": "994d7afe",
   "metadata": {},
   "source": [
    "Question 8 -\n",
    "\n",
    "Using the data from Question 5, write code the analyze the data and answer the following questions Note -\n",
    "\n",
    "1. Draw plots to demonstrate the analysis for the following questions and better visualizations\n",
    "\n",
    "2. Write code comments wherever required for code understanding\n",
    "\n",
    "Insights to be drawn -\n",
    "\n",
    "● Get all the overall ratings for each season and using plots compare the ratings for all the\n",
    "seasons, like season 1 ratings, season 2, and so on.\n",
    "\n",
    "● Get all the episode names, whose average rating is more than 8 for every season\n",
    "\n",
    "\n",
    "● Get all the episode names that aired before May 2019\n",
    "\n",
    "● Get the episode name from each season with the highest and lowest rating\n",
    "\n",
    "● Get the summary for the most popular ( ratings ) episode in every season\n",
    "\n",
    "Ans:"
   ]
  },
  {
   "cell_type": "code",
   "execution_count": 1,
   "id": "233ef5cd",
   "metadata": {},
   "outputs": [],
   "source": [
    "import numpy as np\n",
    "import pandas as pd\n",
    "import ast"
   ]
  },
  {
   "cell_type": "code",
   "execution_count": 2,
   "id": "e11511db",
   "metadata": {},
   "outputs": [],
   "source": [
    "df = pd.read_csv(\"Output.csv\")"
   ]
  },
  {
   "cell_type": "code",
   "execution_count": 3,
   "id": "4f682cf7",
   "metadata": {},
   "outputs": [
    {
     "data": {
      "text/html": [
       "<div>\n",
       "<style scoped>\n",
       "    .dataframe tbody tr th:only-of-type {\n",
       "        vertical-align: middle;\n",
       "    }\n",
       "\n",
       "    .dataframe tbody tr th {\n",
       "        vertical-align: top;\n",
       "    }\n",
       "\n",
       "    .dataframe thead th {\n",
       "        text-align: right;\n",
       "    }\n",
       "</style>\n",
       "<table border=\"1\" class=\"dataframe\">\n",
       "  <thead>\n",
       "    <tr style=\"text-align: right;\">\n",
       "      <th></th>\n",
       "      <th>id</th>\n",
       "      <th>url</th>\n",
       "      <th>name</th>\n",
       "      <th>season</th>\n",
       "      <th>number</th>\n",
       "      <th>type</th>\n",
       "      <th>airdate</th>\n",
       "      <th>airtime</th>\n",
       "      <th>airstamp</th>\n",
       "      <th>runtime</th>\n",
       "      <th>rating</th>\n",
       "      <th>image</th>\n",
       "      <th>summary</th>\n",
       "      <th>_links</th>\n",
       "    </tr>\n",
       "  </thead>\n",
       "  <tbody>\n",
       "    <tr>\n",
       "      <th>0</th>\n",
       "      <td>869671</td>\n",
       "      <td>https://www.tvmaze.com/episodes/869671/westwor...</td>\n",
       "      <td>The Original</td>\n",
       "      <td>1</td>\n",
       "      <td>1</td>\n",
       "      <td>regular</td>\n",
       "      <td>2016-10-02</td>\n",
       "      <td>21:00</td>\n",
       "      <td>2016-10-03T01:00:00+00:00</td>\n",
       "      <td>68</td>\n",
       "      <td>{'average': 8}</td>\n",
       "      <td>{'medium': 'https://static.tvmaze.com/uploads/...</td>\n",
       "      <td>&lt;p&gt;A woman named Dolores is a free spirit in t...</td>\n",
       "      <td>{'self': {'href': 'https://api.tvmaze.com/epis...</td>\n",
       "    </tr>\n",
       "    <tr>\n",
       "      <th>1</th>\n",
       "      <td>911201</td>\n",
       "      <td>https://www.tvmaze.com/episodes/911201/westwor...</td>\n",
       "      <td>Chestnut</td>\n",
       "      <td>1</td>\n",
       "      <td>2</td>\n",
       "      <td>regular</td>\n",
       "      <td>2016-10-09</td>\n",
       "      <td>21:00</td>\n",
       "      <td>2016-10-10T01:00:00+00:00</td>\n",
       "      <td>60</td>\n",
       "      <td>{'average': 7.7}</td>\n",
       "      <td>{'medium': 'https://static.tvmaze.com/uploads/...</td>\n",
       "      <td>&lt;p&gt;Bernard suspects that someone is sabotaging...</td>\n",
       "      <td>{'self': {'href': 'https://api.tvmaze.com/epis...</td>\n",
       "    </tr>\n",
       "    <tr>\n",
       "      <th>2</th>\n",
       "      <td>911204</td>\n",
       "      <td>https://www.tvmaze.com/episodes/911204/westwor...</td>\n",
       "      <td>The Stray</td>\n",
       "      <td>1</td>\n",
       "      <td>3</td>\n",
       "      <td>regular</td>\n",
       "      <td>2016-10-16</td>\n",
       "      <td>21:00</td>\n",
       "      <td>2016-10-17T01:00:00+00:00</td>\n",
       "      <td>60</td>\n",
       "      <td>{'average': 7.6}</td>\n",
       "      <td>{'medium': 'https://static.tvmaze.com/uploads/...</td>\n",
       "      <td>&lt;p&gt;Bernard continues to investigate Dolores' s...</td>\n",
       "      <td>{'self': {'href': 'https://api.tvmaze.com/epis...</td>\n",
       "    </tr>\n",
       "    <tr>\n",
       "      <th>3</th>\n",
       "      <td>911205</td>\n",
       "      <td>https://www.tvmaze.com/episodes/911205/westwor...</td>\n",
       "      <td>Dissonance Theory</td>\n",
       "      <td>1</td>\n",
       "      <td>4</td>\n",
       "      <td>regular</td>\n",
       "      <td>2016-10-23</td>\n",
       "      <td>21:00</td>\n",
       "      <td>2016-10-24T01:00:00+00:00</td>\n",
       "      <td>60</td>\n",
       "      <td>{'average': 7.9}</td>\n",
       "      <td>{'medium': 'https://static.tvmaze.com/uploads/...</td>\n",
       "      <td>&lt;p&gt;While Dolores joins William and Logan on th...</td>\n",
       "      <td>{'self': {'href': 'https://api.tvmaze.com/epis...</td>\n",
       "    </tr>\n",
       "    <tr>\n",
       "      <th>4</th>\n",
       "      <td>927174</td>\n",
       "      <td>https://www.tvmaze.com/episodes/927174/westwor...</td>\n",
       "      <td>Contrapasso</td>\n",
       "      <td>1</td>\n",
       "      <td>5</td>\n",
       "      <td>regular</td>\n",
       "      <td>2016-10-30</td>\n",
       "      <td>21:00</td>\n",
       "      <td>2016-10-31T01:00:00+00:00</td>\n",
       "      <td>60</td>\n",
       "      <td>{'average': 8}</td>\n",
       "      <td>{'medium': 'https://static.tvmaze.com/uploads/...</td>\n",
       "      <td>&lt;p&gt;Dolores takes the first step on her path of...</td>\n",
       "      <td>{'self': {'href': 'https://api.tvmaze.com/epis...</td>\n",
       "    </tr>\n",
       "  </tbody>\n",
       "</table>\n",
       "</div>"
      ],
      "text/plain": [
       "       id                                                url  \\\n",
       "0  869671  https://www.tvmaze.com/episodes/869671/westwor...   \n",
       "1  911201  https://www.tvmaze.com/episodes/911201/westwor...   \n",
       "2  911204  https://www.tvmaze.com/episodes/911204/westwor...   \n",
       "3  911205  https://www.tvmaze.com/episodes/911205/westwor...   \n",
       "4  927174  https://www.tvmaze.com/episodes/927174/westwor...   \n",
       "\n",
       "                name  season  number     type     airdate airtime  \\\n",
       "0       The Original       1       1  regular  2016-10-02   21:00   \n",
       "1           Chestnut       1       2  regular  2016-10-09   21:00   \n",
       "2          The Stray       1       3  regular  2016-10-16   21:00   \n",
       "3  Dissonance Theory       1       4  regular  2016-10-23   21:00   \n",
       "4        Contrapasso       1       5  regular  2016-10-30   21:00   \n",
       "\n",
       "                    airstamp  runtime            rating  \\\n",
       "0  2016-10-03T01:00:00+00:00       68    {'average': 8}   \n",
       "1  2016-10-10T01:00:00+00:00       60  {'average': 7.7}   \n",
       "2  2016-10-17T01:00:00+00:00       60  {'average': 7.6}   \n",
       "3  2016-10-24T01:00:00+00:00       60  {'average': 7.9}   \n",
       "4  2016-10-31T01:00:00+00:00       60    {'average': 8}   \n",
       "\n",
       "                                               image  \\\n",
       "0  {'medium': 'https://static.tvmaze.com/uploads/...   \n",
       "1  {'medium': 'https://static.tvmaze.com/uploads/...   \n",
       "2  {'medium': 'https://static.tvmaze.com/uploads/...   \n",
       "3  {'medium': 'https://static.tvmaze.com/uploads/...   \n",
       "4  {'medium': 'https://static.tvmaze.com/uploads/...   \n",
       "\n",
       "                                             summary  \\\n",
       "0  <p>A woman named Dolores is a free spirit in t...   \n",
       "1  <p>Bernard suspects that someone is sabotaging...   \n",
       "2  <p>Bernard continues to investigate Dolores' s...   \n",
       "3  <p>While Dolores joins William and Logan on th...   \n",
       "4  <p>Dolores takes the first step on her path of...   \n",
       "\n",
       "                                              _links  \n",
       "0  {'self': {'href': 'https://api.tvmaze.com/epis...  \n",
       "1  {'self': {'href': 'https://api.tvmaze.com/epis...  \n",
       "2  {'self': {'href': 'https://api.tvmaze.com/epis...  \n",
       "3  {'self': {'href': 'https://api.tvmaze.com/epis...  \n",
       "4  {'self': {'href': 'https://api.tvmaze.com/epis...  "
      ]
     },
     "execution_count": 3,
     "metadata": {},
     "output_type": "execute_result"
    }
   ],
   "source": [
    "df.head()"
   ]
  },
  {
   "cell_type": "code",
   "execution_count": 4,
   "id": "7f16d202",
   "metadata": {},
   "outputs": [
    {
     "data": {
      "text/plain": [
       "(36, 14)"
      ]
     },
     "execution_count": 4,
     "metadata": {},
     "output_type": "execute_result"
    }
   ],
   "source": [
    "df.shape"
   ]
  },
  {
   "cell_type": "code",
   "execution_count": 5,
   "id": "d073f071",
   "metadata": {},
   "outputs": [],
   "source": [
    "df[\"rating\"] = df[\"rating\"].apply(lambda x : x.split(\"}\")[0].split(\":\")[1])"
   ]
  },
  {
   "cell_type": "code",
   "execution_count": 6,
   "id": "4809856b",
   "metadata": {},
   "outputs": [],
   "source": [
    "df1 = df.copy()"
   ]
  },
  {
   "cell_type": "code",
   "execution_count": 7,
   "id": "810c84f0",
   "metadata": {},
   "outputs": [
    {
     "data": {
      "text/plain": [
       "6                 Trompe L'Oeil\n",
       "8     The Well-Tempered Clavier\n",
       "9            The Bicameral Mind\n",
       "17                      Kiksuya\n",
       "18              Vanishing Point\n",
       "19                The Passenger\n",
       "Name: name, dtype: object"
      ]
     },
     "execution_count": 7,
     "metadata": {},
     "output_type": "execute_result"
    }
   ],
   "source": [
    "# Get all the episode names, whose average rating is more than 8 for every season\n",
    "df1[\"rate_TF\"] = df[\"rating\"].astype(float) > 8.0\n",
    "df1.loc[df1[\"rate_TF\"] == True][\"name\"]"
   ]
  },
  {
   "cell_type": "code",
   "execution_count": null,
   "id": "7adcc667",
   "metadata": {},
   "outputs": [],
   "source": []
  },
  {
   "cell_type": "code",
   "execution_count": 8,
   "id": "2dab4a84",
   "metadata": {},
   "outputs": [
    {
     "data": {
      "text/plain": [
       "0                  The Original\n",
       "1                      Chestnut\n",
       "2                     The Stray\n",
       "3             Dissonance Theory\n",
       "4                   Contrapasso\n",
       "5                 The Adversary\n",
       "6                 Trompe L'Oeil\n",
       "7                   Trace Decay\n",
       "8     The Well-Tempered Clavier\n",
       "9            The Bicameral Mind\n",
       "10           Journey Into Night\n",
       "11                      Reunion\n",
       "12              Virtù e Fortuna\n",
       "13     The Riddle of the Sphinx\n",
       "14                 Akane No Mai\n",
       "15                  Phase Space\n",
       "16                 Les Écorchés\n",
       "17                      Kiksuya\n",
       "18              Vanishing Point\n",
       "19                The Passenger\n",
       "Name: name, dtype: object"
      ]
     },
     "execution_count": 8,
     "metadata": {},
     "output_type": "execute_result"
    }
   ],
   "source": [
    "# Get all the episode names that aired before May 2019\n",
    "df1[\"air_year\"] = df1[\"airdate\"].apply(lambda x : int(x.split(\"-\")[0]))\n",
    "df1[\"air_year_TF\"] = df1[\"air_year\"] < 2019\n",
    "df1.loc[df1[\"air_year_TF\"] == True][\"name\"]"
   ]
  },
  {
   "cell_type": "code",
   "execution_count": null,
   "id": "4ae01f53",
   "metadata": {},
   "outputs": [],
   "source": []
  },
  {
   "cell_type": "code",
   "execution_count": 9,
   "id": "cd906408",
   "metadata": {},
   "outputs": [],
   "source": [
    "# Get the episode name from each season with the highest and lowest rating\n",
    "df[\"rating\"] = df[\"rating\"].astype(float)"
   ]
  },
  {
   "cell_type": "code",
   "execution_count": 10,
   "id": "440697c9",
   "metadata": {},
   "outputs": [
    {
     "data": {
      "text/plain": [
       "('The Bicameral Mind', 'The Auguries')"
      ]
     },
     "execution_count": 10,
     "metadata": {},
     "output_type": "execute_result"
    }
   ],
   "source": [
    "mx = df[\"rating\"].idxmax()\n",
    "mi = df[\"rating\"].idxmin()\n",
    "df.loc[mx][\"name\"], df.loc[mi][\"name\"]"
   ]
  },
  {
   "cell_type": "code",
   "execution_count": 11,
   "id": "a56d1144",
   "metadata": {},
   "outputs": [],
   "source": [
    "# Get the summary for the most popular ( ratings ) episode in every season\n",
    "df1[\"pop\"] = pd.Series(list(dict(df.groupby([\"name\"])[\"rating\"].sum() > 8).values()))"
   ]
  },
  {
   "cell_type": "code",
   "execution_count": 12,
   "id": "4f2c099c",
   "metadata": {},
   "outputs": [
    {
     "data": {
      "text/plain": [
       "0     False\n",
       "1     False\n",
       "2     False\n",
       "3     False\n",
       "4     False\n",
       "5     False\n",
       "6     False\n",
       "7     False\n",
       "8     False\n",
       "9     False\n",
       "10    False\n",
       "11     True\n",
       "12    False\n",
       "13    False\n",
       "14    False\n",
       "15    False\n",
       "16    False\n",
       "17    False\n",
       "18    False\n",
       "19    False\n",
       "20    False\n",
       "21    False\n",
       "22     True\n",
       "23    False\n",
       "24    False\n",
       "25     True\n",
       "26    False\n",
       "27    False\n",
       "28     True\n",
       "29    False\n",
       "30    False\n",
       "31     True\n",
       "32     True\n",
       "33    False\n",
       "34    False\n",
       "35    False\n",
       "Name: pop, dtype: bool"
      ]
     },
     "execution_count": 12,
     "metadata": {},
     "output_type": "execute_result"
    }
   ],
   "source": [
    "df1[\"pop\"]"
   ]
  },
  {
   "cell_type": "code",
   "execution_count": 13,
   "id": "6a31c18f",
   "metadata": {},
   "outputs": [
    {
     "data": {
      "text/plain": [
       "11                 Reunion\n",
       "22    The Absence of Field\n",
       "25             Decoherence\n",
       "28            The Auguries\n",
       "31         Generation Loss\n",
       "32                Zhuangzi\n",
       "Name: name, dtype: object"
      ]
     },
     "execution_count": 13,
     "metadata": {},
     "output_type": "execute_result"
    }
   ],
   "source": [
    "df.loc[df1[\"pop\"] == True][\"name\"]"
   ]
  },
  {
   "cell_type": "code",
   "execution_count": null,
   "id": "e3794e50",
   "metadata": {},
   "outputs": [],
   "source": []
  },
  {
   "cell_type": "code",
   "execution_count": 14,
   "id": "cd6acb02",
   "metadata": {},
   "outputs": [
    {
     "data": {
      "text/plain": [
       "name                       season\n",
       "Akane No Mai               2         7.6\n",
       "Années Folles              4         7.6\n",
       "Chestnut                   1         7.7\n",
       "Contrapasso                1         8.0\n",
       "Crisis Theory              3         7.7\n",
       "Decoherence                3         7.5\n",
       "Dissonance Theory          1         7.9\n",
       "Fidelity                   4         7.5\n",
       "Generation Loss            4         7.7\n",
       "Genre                      3         7.9\n",
       "Journey Into Night         2         7.8\n",
       "Kiksuya                    2         8.7\n",
       "Les Écorchés               2         7.9\n",
       "Metanoia                   4         7.7\n",
       "Parce Domine               3         8.0\n",
       "Passed Pawn                3         7.5\n",
       "Phase Space                2         7.7\n",
       "Que Será, Será             4         7.5\n",
       "Reunion                    2         7.7\n",
       "The Absence of Field       3         7.8\n",
       "The Adversary              1         8.0\n",
       "The Auguries               4         7.1\n",
       "The Bicameral Mind         1         8.7\n",
       "The Mother of Exiles       3         8.0\n",
       "The Original               1         8.0\n",
       "The Passenger              2         8.5\n",
       "The Riddle of the Sphinx   2         8.0\n",
       "The Stray                  1         7.6\n",
       "The Well-Tempered Clavier  1         8.5\n",
       "The Winter Line            3         7.8\n",
       "Trace Decay                1         7.9\n",
       "Trompe L'Oeil              1         8.6\n",
       "Vanishing Point            2         8.4\n",
       "Virtù e Fortuna            2         7.7\n",
       "Well Enough Alone          4         7.4\n",
       "Zhuangzi                   4         7.8\n",
       "Name: rating, dtype: float64"
      ]
     },
     "execution_count": 14,
     "metadata": {},
     "output_type": "execute_result"
    }
   ],
   "source": [
    "# Get all the overall ratings for each season and using plots compare the ratings for all the seasons, like season 1 ratings, season 2, and so on.\n",
    "\n",
    "df.groupby([\"name\", \"season\"])[\"rating\"].sum()"
   ]
  },
  {
   "cell_type": "code",
   "execution_count": 15,
   "id": "ca2a1c33",
   "metadata": {},
   "outputs": [
    {
     "data": {
      "text/plain": [
       "<AxesSubplot:xlabel='name,season'>"
      ]
     },
     "execution_count": 15,
     "metadata": {},
     "output_type": "execute_result"
    },
    {
     "data": {
      "image/png": "[encoded data removed]",
      "text/plain": [
       "<Figure size 1080x360 with 1 Axes>"
      ]
     },
     "metadata": {
      "needs_background": "light"
     },
     "output_type": "display_data"
    }
   ],
   "source": [
    "df.groupby([\"name\", \"season\"])[\"rating\"].sum().plot(figsize=(15, 5))"
   ]
  }
 ],
 "metadata": {
  "kernelspec": {
   "display_name": "Python 3 (ipykernel)",
   "language": "python",
   "name": "python3"
  },
  "language_info": {
   "codemirror_mode": {
    "name": "ipython",
    "version": 3
   },
   "file_extension": ".py",
   "mimetype": "text/x-python",
   "name": "python",
   "nbconvert_exporter": "python",
   "pygments_lexer": "ipython3",
   "version": "3.9.12"
  },
  "latex_envs": {
   "LaTeX_envs_menu_present": true,
   "autoclose": false,
   "autocomplete": true,
   "bibliofile": "biblio.bib",
   "cite_by": "apalike",
   "current_citInitial": 1,
   "eqLabelWithNumbers": true,
   "eqNumInitial": 1,
   "hotkeys": {
    "equation": "Ctrl-E",
    "itemize": "Ctrl-I"
   },
   "labels_anchors": false,
   "latex_user_defs": false,
   "report_style_numbering": false,
   "user_envs_cfg": false
  },
  "nbTranslate": {
   "displayLangs": [
    "*"
   ],
   "hotkey": "alt-t",
   "langInMainMenu": true,
   "sourceLang": "en",
   "targetLang": "fr",
   "useGoogleTranslate": true
  },
  "toc": {
   "base_numbering": 1,
   "nav_menu": {},
   "number_sections": true,
   "sideBar": true,
   "skip_h1_title": false,
   "title_cell": "Table of Contents",
   "title_sidebar": "Contents",
   "toc_cell": false,
   "toc_position": {},
   "toc_section_display": true,
   "toc_window_display": false
  },
  "varInspector": {
   "cols": {
    "lenName": 16,
    "lenType": 16,
    "lenVar": 40
   },
   "kernels_config": {
    "python": {
     "delete_cmd_postfix": "",
     "delete_cmd_prefix": "del ",
     "library": "var_list.py",
     "varRefreshCmd": "print(var_dic_list())"
    },
    "r": {
     "delete_cmd_postfix": ") ",
     "delete_cmd_prefix": "rm(",
     "library": "var_list.r",
     "varRefreshCmd": "cat(var_dic_list()) "
    }
   },
   "types_to_exclude": [
    "module",
    "function",
    "builtin_function_or_method",
    "instance",
    "_Feature"
   ],
   "window_display": false
  }
 },
 "nbformat": 4,
 "nbformat_minor": 5
}
